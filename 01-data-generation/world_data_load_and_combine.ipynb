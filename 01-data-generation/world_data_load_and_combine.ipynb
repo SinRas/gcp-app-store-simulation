{
 "cells": [
  {
   "cell_type": "markdown",
   "id": "e17d2734-1437-411e-b0ec-1d096c1f12e0",
   "metadata": {},
   "source": [
    "# Outline\n",
    "\n",
    "In this notebook I'll be fetching the data for three different quantities:\n",
    "- **Country Population:** population per country -> source: [WorldMeters - Population by Country](https://www.worldometers.info/world-population/population-by-country)\n",
    "- **Internet Penetration Factor:** what percentage/fraction of a country's population has access to internet -> source: [WorldBank Data - Individuals with Internet Percentage](https://data.worldbank.org/indicator/IT.NET.USER.ZS)\n",
    "- **Timezone:** what is the time zone (official) of a country, e.g. capital's timezone -> source: [The World Clock — Capitals Worldwide](https://www.timeanddate.com/worldclock/?low=c&sort=1)\n",
    "\n",
    "Steps involved will be:\n",
    "1. Fetching and finding the data in the HTML page\n",
    "2. Normalizing country names across three sources\n",
    "3. Merging and exporting to CSV"
   ]
  },
  {
   "cell_type": "markdown",
   "id": "fe07418d-00b3-4910-b5d5-5d0d054e8c7b",
   "metadata": {},
   "source": [
    "# Modules"
   ]
  },
  {
   "cell_type": "code",
   "execution_count": 1,
   "id": "f5b4f457-f94a-4bf0-9d23-a461ae3b2759",
   "metadata": {},
   "outputs": [],
   "source": [
    "import numpy as np  # for multi-dimensional array manipulations\n",
    "import pandas as pd  # dataframe/table manipulations\n",
    "import matplotlib.pyplot as plt  # visualizations for sanity checks\n",
    "\n",
    "import country_converter as coco  # for country name and code conversions\n",
    "cc = coco.CountryConverter()  # converts country names in various formats, to a specific format\n",
    "\n",
    "import datetime\n",
    "import pytz"
   ]
  },
  {
   "cell_type": "markdown",
   "id": "75adb25e-1f41-422a-ba3f-ec5ac97493df",
   "metadata": {},
   "source": [
    "# Parameters"
   ]
  },
  {
   "cell_type": "code",
   "execution_count": 2,
   "id": "23c7edfd-414a-485a-9021-0bd7faa873f8",
   "metadata": {},
   "outputs": [],
   "source": [
    "COUNTRY_NAME_FORMAT = 'ISO3'"
   ]
  },
  {
   "cell_type": "markdown",
   "id": "e77e7ca0-5984-4291-85bc-e39586821f44",
   "metadata": {},
   "source": [
    "# Load & normalize"
   ]
  },
  {
   "cell_type": "markdown",
   "id": "80f30e94-6ddf-42b6-ba78-80150eae9e7f",
   "metadata": {},
   "source": [
    "## Population"
   ]
  },
  {
   "cell_type": "code",
   "execution_count": 3,
   "id": "5d892ada-e1f1-4111-8df2-dd7e05129ad2",
   "metadata": {},
   "outputs": [
    {
     "data": {
      "text/html": [
       "<div>\n",
       "<style scoped>\n",
       "    .dataframe tbody tr th:only-of-type {\n",
       "        vertical-align: middle;\n",
       "    }\n",
       "\n",
       "    .dataframe tbody tr th {\n",
       "        vertical-align: top;\n",
       "    }\n",
       "\n",
       "    .dataframe thead th {\n",
       "        text-align: right;\n",
       "    }\n",
       "</style>\n",
       "<table border=\"1\" class=\"dataframe\">\n",
       "  <thead>\n",
       "    <tr style=\"text-align: right;\">\n",
       "      <th></th>\n",
       "      <th>country</th>\n",
       "      <th>population</th>\n",
       "    </tr>\n",
       "  </thead>\n",
       "  <tbody>\n",
       "    <tr>\n",
       "      <th>0</th>\n",
       "      <td>IND</td>\n",
       "      <td>1463865525</td>\n",
       "    </tr>\n",
       "    <tr>\n",
       "      <th>1</th>\n",
       "      <td>CHN</td>\n",
       "      <td>1416096094</td>\n",
       "    </tr>\n",
       "    <tr>\n",
       "      <th>2</th>\n",
       "      <td>USA</td>\n",
       "      <td>347275807</td>\n",
       "    </tr>\n",
       "    <tr>\n",
       "      <th>3</th>\n",
       "      <td>IDN</td>\n",
       "      <td>285721236</td>\n",
       "    </tr>\n",
       "    <tr>\n",
       "      <th>4</th>\n",
       "      <td>PAK</td>\n",
       "      <td>255219554</td>\n",
       "    </tr>\n",
       "  </tbody>\n",
       "</table>\n",
       "</div>"
      ],
      "text/plain": [
       "  country  population\n",
       "0     IND  1463865525\n",
       "1     CHN  1416096094\n",
       "2     USA   347275807\n",
       "3     IDN   285721236\n",
       "4     PAK   255219554"
      ]
     },
     "metadata": {},
     "output_type": "display_data"
    },
    {
     "name": "stdout",
     "output_type": "stream",
     "text": [
      "World population 2025: 8.22975e+09\n"
     ]
    }
   ],
   "source": [
    "# Since the do not like non-human requests! Visit the page\n",
    "# `https://www.worldometers.info/world-population/population-by-country/`\n",
    "# in your browser and save it as a single HTML file. Now use the path to the file.\n",
    "tmp_dfs = pd.read_html(\n",
    "    \"data/Population by Country (2025) - Worldometer.html\"\n",
    ")\n",
    "df_population_by_country = tmp_dfs[0].copy()\n",
    "# Select and Re-name\n",
    "df_population_by_country = df_population_by_country[[\n",
    "    \"Country (or dependency)\", \"Population 2025\"\n",
    "]].copy()\n",
    "df_population_by_country.columns = [ \"country\", \"population\" ]\n",
    "df_population_by_country['country'] = cc.pandas_convert(\n",
    "    df_population_by_country['country'],\n",
    "    to=COUNTRY_NAME_FORMAT\n",
    ")\n",
    "\n",
    "# Glimpse\n",
    "display( df_population_by_country.head(5) )\n",
    "\n",
    "# Just for fun\n",
    "print(f\"World population 2025: {df_population_by_country['population'].sum():>g}\")"
   ]
  },
  {
   "cell_type": "markdown",
   "id": "7e996ecf-1f6d-4cf3-a7e8-fc1f7d0c8fbc",
   "metadata": {},
   "source": [
    "## Internet penetration"
   ]
  },
  {
   "cell_type": "code",
   "execution_count": null,
   "id": "9f6d25d7-4e81-4c9a-89b3-2a52feb68e70",
   "metadata": {
    "scrolled": true
   },
   "outputs": [],
   "source": [
    "# They provide a CSV file with relevant informations there. Visit\n",
    "# `https://data.worldbank.org/indicator/IT.NET.USER.ZS`\n",
    "# and download the CSV version of the infos from the panel on the right.\n",
    "tmp_df = pd.read_csv(\n",
    "    \"data/API_IT.NET.USER.ZS_DS2_en_csv_v2_512034.csv\",\n",
    "    skiprows=4\n",
    ")\n",
    "df_internet_penetration = tmp_df[[\n",
    "    'Country Name'\n",
    "]].rename(columns={ 'Country Name': 'country' })\n",
    "df_internet_penetration['country'] = cc.pandas_convert(\n",
    "    df_internet_penetration['country'],\n",
    "    to=COUNTRY_NAME_FORMAT\n",
    ")\n",
    "\n",
    "# Assume it's increasing and find maximum\n",
    "df_internet_penetration['internet_penetration_fraction'] = np.nanmax( tmp_df.iloc[:,4:-1].to_numpy(), axis=1 ) / 100\n",
    "\n",
    "# Filter\n",
    "df_internet_penetration = df_internet_penetration[\n",
    "    (df_internet_penetration['country'] != 'not found' ) & ( ~df_internet_penetration['internet_penetration_fraction'].isna() )\n",
    "]\n",
    "\n",
    "# Display\n",
    "display(df_internet_penetration.head(5))"
   ]
  },
  {
   "cell_type": "markdown",
   "id": "656e7d40-5602-4727-891a-bddf2ffef5ed",
   "metadata": {},
   "source": [
    "## Add Timezone Data"
   ]
  },
  {
   "cell_type": "code",
   "execution_count": 5,
   "id": "77129256-f428-4f83-a952-a01f3996e133",
   "metadata": {},
   "outputs": [],
   "source": [
    "# Since the do not like non-human requests! Visit the page\n",
    "# `https://www.timeanddate.com/worldclock/?low=c&sort=1`\n",
    "# in your browser and save it as a single HTML file. Now use the path to the file.\n",
    "tmp_dfs = pd.read_html(\n",
    "    \"data/The World Clock — Capitals Worldwide.html\"\n",
    ")\n",
    "df_country_timezone = tmp_dfs[0]\n",
    "df_country_timezone.columns = [ 0, 1, 2, 3 ]\n",
    "df_country_timezone = pd.concat((\n",
    "    df_country_timezone.iloc[:,:2].rename(columns={0: 'country', 1: 'time'}),\n",
    "    df_country_timezone.iloc[:,2:4].rename(columns={2: 'country', 3: 'time'}),\n",
    "))\n",
    "\n",
    "df_country_timezone = df_country_timezone[\n",
    "    ~df_country_timezone['time'].isna()\n",
    "].copy()\n",
    "\n",
    "df_country_timezone['country_raw'] = df_country_timezone['country'].map( lambda x: x.split(',',1)[0] if isinstance(x, str) else '' )\n",
    "\n",
    "# ISO3 country codes\n",
    "df_country_timezone['country'] = cc.pandas_convert(\n",
    "    df_country_timezone['country_raw'],\n",
    "    to=COUNTRY_NAME_FORMAT\n",
    ")\n",
    "\n",
    "# Add Hours Conversion\n",
    "def convert_time_to_24h(time_str):\n",
    "    dayofweek, time = time_str.split()\n",
    "    hour, minutes = list(map(int, time.split(':')))\n",
    "    if dayofweek == 'Fri':\n",
    "        hour_offset = 0\n",
    "    elif dayofweek == 'Sat':\n",
    "        hour_offset = 24\n",
    "    elif dayofweek == 'Thu':\n",
    "        hour_offset = -24\n",
    "    return (hour+hour_offset) + minutes/60\n",
    "df_country_timezone['timezone_hour'] = df_country_timezone['time'].map( convert_time_to_24h )\n",
    "## \n",
    "timezone_hour_iran = df_country_timezone[ df_country_timezone['country'] == 'IRN' ]['timezone_hour'].to_numpy()[0]\n",
    "df_country_timezone['timezone'] = (df_country_timezone['timezone_hour'] - timezone_hour_iran).round(1)\n",
    "\n",
    "df_country_timezone = df_country_timezone[['country', 'timezone']]"
   ]
  },
  {
   "cell_type": "markdown",
   "id": "833d18c9-328c-48b6-a6d8-605e87172b5c",
   "metadata": {},
   "source": [
    "# Combine all Data"
   ]
  },
  {
   "cell_type": "code",
   "execution_count": 6,
   "id": "15cb314a-9c07-4f2f-822e-752a06d093d6",
   "metadata": {},
   "outputs": [
    {
     "data": {
      "text/html": [
       "<div>\n",
       "<style scoped>\n",
       "    .dataframe tbody tr th:only-of-type {\n",
       "        vertical-align: middle;\n",
       "    }\n",
       "\n",
       "    .dataframe tbody tr th {\n",
       "        vertical-align: top;\n",
       "    }\n",
       "\n",
       "    .dataframe thead th {\n",
       "        text-align: right;\n",
       "    }\n",
       "</style>\n",
       "<table border=\"1\" class=\"dataframe\">\n",
       "  <thead>\n",
       "    <tr style=\"text-align: right;\">\n",
       "      <th></th>\n",
       "      <th>country</th>\n",
       "      <th>population</th>\n",
       "      <th>internet_penetration_fraction</th>\n",
       "      <th>timezone</th>\n",
       "    </tr>\n",
       "  </thead>\n",
       "  <tbody>\n",
       "    <tr>\n",
       "      <th>0</th>\n",
       "      <td>IND</td>\n",
       "      <td>1463865525</td>\n",
       "      <td>0.559</td>\n",
       "      <td>2.0</td>\n",
       "    </tr>\n",
       "    <tr>\n",
       "      <th>1</th>\n",
       "      <td>CHN</td>\n",
       "      <td>1416096094</td>\n",
       "      <td>0.775</td>\n",
       "      <td>4.5</td>\n",
       "    </tr>\n",
       "    <tr>\n",
       "      <th>2</th>\n",
       "      <td>USA</td>\n",
       "      <td>347275807</td>\n",
       "      <td>0.931</td>\n",
       "      <td>-7.5</td>\n",
       "    </tr>\n",
       "    <tr>\n",
       "      <th>3</th>\n",
       "      <td>IDN</td>\n",
       "      <td>285721236</td>\n",
       "      <td>0.692</td>\n",
       "      <td>3.5</td>\n",
       "    </tr>\n",
       "    <tr>\n",
       "      <th>4</th>\n",
       "      <td>PAK</td>\n",
       "      <td>255219554</td>\n",
       "      <td>0.274</td>\n",
       "      <td>1.5</td>\n",
       "    </tr>\n",
       "  </tbody>\n",
       "</table>\n",
       "</div>"
      ],
      "text/plain": [
       "  country  population  internet_penetration_fraction  timezone\n",
       "0     IND  1463865525                          0.559       2.0\n",
       "1     CHN  1416096094                          0.775       4.5\n",
       "2     USA   347275807                          0.931      -7.5\n",
       "3     IDN   285721236                          0.692       3.5\n",
       "4     PAK   255219554                          0.274       1.5"
      ]
     },
     "execution_count": 6,
     "metadata": {},
     "output_type": "execute_result"
    }
   ],
   "source": [
    "df_combined = pd.merge(\n",
    "    df_population_by_country,\n",
    "    df_internet_penetration,\n",
    "    on=['country'],\n",
    "    how='left',\n",
    ")\n",
    "df_combined = pd.merge(\n",
    "    df_combined,\n",
    "    df_country_timezone,\n",
    "    on=['country'],\n",
    "    how='left'\n",
    ")\n",
    "df_combined.dropna(inplace=True)\n",
    "df_combined.reset_index(drop=True, inplace=True)\n",
    "# Display\n",
    "df_combined.head(5)"
   ]
  },
  {
   "cell_type": "markdown",
   "id": "8607dad6-02a8-4cab-bf40-379c88f05736",
   "metadata": {},
   "source": [
    "## Write to CSV"
   ]
  },
  {
   "cell_type": "code",
   "execution_count": 7,
   "id": "c05f6101-e268-400f-874f-23eca825e3c5",
   "metadata": {},
   "outputs": [],
   "source": [
    "df_combined.to_csv(\n",
    "    \"population_internet_timezone.csv\",\n",
    "    index=False,\n",
    "    float_format=\"%.2f\"\n",
    ")"
   ]
  },
  {
   "cell_type": "code",
   "execution_count": null,
   "id": "c1e29f00-b3d0-461d-9395-ed80a94ad9dc",
   "metadata": {},
   "outputs": [],
   "source": []
  },
  {
   "cell_type": "code",
   "execution_count": null,
   "id": "999bcd06-b063-497b-b36d-c41bf0b6b025",
   "metadata": {},
   "outputs": [],
   "source": []
  },
  {
   "cell_type": "code",
   "execution_count": null,
   "id": "ef27944a-5bbf-4d41-9577-4b6a39b2c3ce",
   "metadata": {},
   "outputs": [],
   "source": []
  },
  {
   "cell_type": "code",
   "execution_count": null,
   "id": "4b07cbf1-cd8b-45b1-929c-e13516bfcb2b",
   "metadata": {},
   "outputs": [],
   "source": []
  },
  {
   "cell_type": "code",
   "execution_count": null,
   "id": "372c0b51-2298-4cdb-86f6-165f5bf7f25d",
   "metadata": {},
   "outputs": [],
   "source": []
  },
  {
   "cell_type": "code",
   "execution_count": null,
   "id": "f5120a67-3559-48a5-bb7d-d78373d35876",
   "metadata": {},
   "outputs": [],
   "source": []
  },
  {
   "cell_type": "code",
   "execution_count": null,
   "id": "92b045b0-2089-480a-9a32-47f89edb93b3",
   "metadata": {},
   "outputs": [],
   "source": []
  },
  {
   "cell_type": "code",
   "execution_count": null,
   "id": "11bd8a08-f88c-4fea-b68c-f4a83eb9bcb9",
   "metadata": {},
   "outputs": [],
   "source": []
  },
  {
   "cell_type": "code",
   "execution_count": null,
   "id": "6bc02a5b-0834-4ef8-8efe-fb9bcf52dd21",
   "metadata": {},
   "outputs": [],
   "source": []
  },
  {
   "cell_type": "code",
   "execution_count": null,
   "id": "aadf88cd-acf9-44b4-a093-b7f16b6a437d",
   "metadata": {},
   "outputs": [],
   "source": []
  },
  {
   "cell_type": "code",
   "execution_count": null,
   "id": "0fa03b37-b1fc-498d-a167-2d175d65e372",
   "metadata": {},
   "outputs": [],
   "source": []
  },
  {
   "cell_type": "code",
   "execution_count": null,
   "id": "fe66e7fd-f336-4c6e-bb34-2e3e6b6ff81f",
   "metadata": {},
   "outputs": [],
   "source": []
  }
 ],
 "metadata": {
  "kernelspec": {
   "display_name": "Python 3 (ipykernel)",
   "language": "python",
   "name": "python3"
  },
  "language_info": {
   "codemirror_mode": {
    "name": "ipython",
    "version": 3
   },
   "file_extension": ".py",
   "mimetype": "text/x-python",
   "name": "python",
   "nbconvert_exporter": "python",
   "pygments_lexer": "ipython3",
   "version": "3.13.5"
  }
 },
 "nbformat": 4,
 "nbformat_minor": 5
}
